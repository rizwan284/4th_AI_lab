{
 "cells": [
  {
   "cell_type": "code",
   "execution_count": null,
   "metadata": {
    "vscode": {
     "languageId": "plaintext"
    }
   },
   "outputs": [],
   "source": [
    "import numpy as np \n",
    "import pandas as pd \n",
    "import os\n",
    "\n",
    "from sklearn.metrics import mean_absolute_error\n",
    "from sklearn.linear_model import LogisticRegression\n",
    "from sklearn.ensemble import RandomForestClassifier\n",
    "from sklearn.model_selection import StratifiedKFold, cross_val_score, train_test_split, GridSearchCV\n",
    "from sklearn import preprocessing\n",
    "from sklearn.preprocessing import StandardScaler\n",
    "from sklearn.cluster import KMeans\n",
    "from xgboost import XGBClassifier\n",
    "from lightgbm import LGBMClassifier\n",
    "from catboost import CatBoostClassifier\n",
    "\n",
    "import matplotlib.pyplot as plt\n",
    "import seaborn as sns"
   ]
  },
  {
   "cell_type": "code",
   "execution_count": null,
   "metadata": {
    "vscode": {
     "languageId": "plaintext"
    }
   },
   "outputs": [],
   "source": [
    "def load_data(train_path, test_path):\n",
    "    train = pd.read_csv(train_path)\n",
    "    test = pd.read_csv(test_path)\n",
    "    train_res = train.Transported.astype(int)\n",
    "    test_id = test.PassengerId\n",
    "    return train, test, train_res, test_id"
   ]
  },
  {
   "cell_type": "code",
   "execution_count": null,
   "metadata": {
    "vscode": {
     "languageId": "plaintext"
    }
   },
   "outputs": [],
   "source": [
    "def preprocess_data(train, test):\n",
    "    # Convert HomePlanet to categorical\n",
    "    train['HomePlanet'] = train['HomePlanet'].astype('category')\n",
    "    test['HomePlanet'] = test['HomePlanet'].astype('category')\n",
    "\n",
    "    # Handle missing values by adding \"Missing\" as a new category\n",
    "    train['HomePlanet'] = train['HomePlanet'].cat.add_categories('Missing').fillna('Missing')\n",
    "    test['HomePlanet'] = test['HomePlanet'].cat.add_categories('Missing').fillna('Missing')\n",
    "      train['Destination'] = train['Destination'].astype('category')\n",
    "    test['Destination'] = test['Destination'].astype('category')\n",
    "\n",
    "    # Handle missing values by adding \"Missing\" as a new category\n",
    "    train['Destination'] = train['Destination'].cat.add_categories('Missing').fillna('Missing')\n",
    "    test['Destination'] = test['Destination'].cat.add_categories('Missing').fillna('Missing')\n",
    "    \n",
    "    # Split Cabin\n",
    "    train[['Cabin_1', 'Cabin_2', 'Cabin_3']] = train['Cabin'].str.split('/', expand=True)\n",
    "    test[['Cabin_1', 'Cabin_2', 'Cabin_3']] = test['Cabin'].str.split('/', expand=True)\n",
    "\n",
    "    # Convert Cabin_1 to categorical\n",
    "    train['Cabin_1'] = train['Cabin_1'].astype('category')\n",
    "    test['Cabin_1'] = test['Cabin_1'].astype('category')\n",
    "\n",
    "    # Handle missing values by adding \"Missing\" as a new category\n",
    "    train['Cabin_1'] = train['Cabin_1'].cat.add_categories('Missing').fillna('Missing')\n",
    "     test['Cabin_1'] = test['Cabin_1'].cat.add_categories('Missing').fillna('Missing')\n",
    "    \n",
    "    # Convert Cabin_3 to categorical\n",
    "    train['Cabin_3'] = train['Cabin_3'].astype('category')\n",
    "    test['Cabin_3'] = test['Cabin_3'].astype('category')\n",
    "    \n",
    "    # Handle missing values by adding \"Missing\" as a new category\n",
    "    train['Cabin_3'] = train['Cabin_3'].cat.add_categories('Missing').fillna('Missing')\n",
    "    test['Cabin_3'] = test['Cabin_3'].cat.add_categories('Missing').fillna('Missing')\n",
    "    cols = ['FoodCourt', 'RoomService', 'ShoppingMall', 'Spa', 'VRDeck']\n",
    "    for col in cols:\n",
    "        train[col] = train[col].fillna(0)\n",
    "        test[col] = test[col].fillna(0)\n",
    "\n",
    "    # Convert categorical features\n",
    "    categorical_columns = ['CryoSleep', 'VIP', 'HomePlanet', 'Destination', 'Cabin_1', 'Cabin_3']\n",
    "    for col in categorical_columns:\n",
    "        train[col] = train[col].astype('category')\n",
    "        test[col] = test[col].astype('category')\n",
    "        if 'Missing' not in train[col].cat.categories:\n",
    "            train[col] = train[col].cat.add_categories('Missing')\n",
    "        if 'Missing' not in test[col].cat.categories:\n",
    "            test[col] = test[col].cat.add_categories('Missing')\n",
    "\n",
    "        # Now, fill NaN values with 'Missing'\n",
    "        train[col] = train[col].fillna('Missing')\n",
    "        test[col] = test[col].fillna('Missing')\n",
    "\n",
    "    # Advanced Feature Engineering\n",
    "    train['FamilySize'] = train['PassengerId'].apply(lambda x: int(x.split('_')[1]))\n",
    "    test['FamilySize'] = test['PassengerId'].apply(lambda x: int(x.split('_')[1]))\n",
    "    \n",
    "    train['Spending'] = train[cols].sum(axis=1)\n",
    "    test['Spending'] = test[cols].sum(axis=1)\n",
    "\n",
    "    # Calculate mean age, ignoring NaNs\n",
    "    mean_age = train['Age'].mean(skipna=True)\n",
    "    # Replace NaN with the mean age\n",
    "    train['Age'] = train['Age'].fillna(mean_age)\n",
    "    test['Age'] = test['Age'].fillna(mean_age)\n",
    "     \n",
    "    train.drop(['Name', 'Transported', 'PassengerId', 'Cabin', 'Cabin_2'], axis=1, inplace=True)\n",
    "    test.drop(['Name', 'PassengerId', 'Cabin', 'Cabin_2'], axis=1, inplace=True)\n",
    "    return train, test\n"
   ]
  },
  {
   "cell_type": "code",
   "execution_count": null,
   "metadata": {
    "vscode": {
     "languageId": "plaintext"
    }
   },
   "outputs": [],
   "source": [
    "def apply_clustering(train, test):\n",
    "    # Select numerical features for clustering\n",
    "    features = ['Spending', 'RoomService', 'FoodCourt', 'ShoppingMall', 'Spa', 'VRDeck']\n",
    "\n",
    "    # Normalize only for those who spent money\n",
    "    scaler = StandardScaler()\n",
    "\n",
    "    # Separate train & test subsets where Spending > 0\n",
    "    spent_money_train = train[train['Spending'] > 0].copy()\n",
    "    spent_money_test = test[test['Spending'] > 0].copy()\n",
    "    spent_money_train[features] = scaler.fit_transform(spent_money_train[features])\n",
    "    spent_money_test[features] = scaler.transform(spent_money_test[features])  # Use same scaler as train!\n",
    "\n",
    "    # Apply K-Means clustering\n",
    "    k = 5  # You can experiment with different k values\n",
    "    kmeans = KMeans(n_clusters=k, random_state=42, n_init=10)\n",
    "    spent_money_train['Cluster'] = kmeans.fit_predict(spent_money_train[features])\n",
    "    spent_money_test['Cluster'] = kmeans.predict(spent_money_test[features])  # Use trained k-means model!\n",
    "    train['SpendingCluster'] = -1\n",
    "    test['SpendingCluster'] = -1\n",
    "\n",
    "    # Assign cluster labels to those who spent money\n",
    "    train.loc[train['Spending'] > 0, 'SpendingCluster'] = spent_money_train['Cluster'].values\n",
    "    test.loc[test['Spending'] > 0, 'SpendingCluster'] = spent_money_test['Cluster'].values\n",
    "\n",
    "    train['SpendingCluster'] = train['SpendingCluster'].astype('category')\n",
    "    test['SpendingCluster'] = test['SpendingCluster'].astype('category')\n",
    "    return train, test\n"
   ]
  },
  {
   "cell_type": "code",
   "execution_count": null,
   "metadata": {
    "vscode": {
     "languageId": "plaintext"
    }
   },
   "outputs": [],
   "source": [
    "def tune_xgb(train, train_res):\n",
    "    param_grid = {\n",
    "        'n_estimators': [100, 200, 300],\n",
    "        'max_depth': [3, 5, 7],\n",
    "        'learning_rate': [0.01, 0.1, 0.2],\n",
    "        'subsample': [0.8, 1],\n",
    "        'colsample_bytree': [0.8, 1]\n",
    "    }\n",
    "    xgb = XGBClassifier(eval_metric=\"logloss\", use_label_encoder=False, random_state=42, enable_categorical=True)\n",
    "    grid_search = GridSearchCV(xgb, param_grid, cv=3, scoring='accuracy', verbose=1, n_jobs=-1)\n",
    "    grid_search.fit(train, train_res)\n",
    "    print(\"Best parameters for XGBoost:\", grid_search.best_params_)\n",
    "    return grid_search.best_estimator_"
   ]
  },
  {
   "cell_type": "code",
   "execution_count": null,
   "metadata": {
    "vscode": {
     "languageId": "plaintext"
    }
   },
   "outputs": [],
   "source": [
    "def train_meta_models(oof_preds, train_res, train_columns):\n",
    "    oof_preds_df = pd.DataFrame(oof_preds, columns=[\"XGB\", \"LGB\", \"CatBoost\"])\n",
    "    meta_models = {\n",
    "        \"LogisticRegression\": LogisticRegression(),\n",
    "        \"RandomForest\": RandomForestClassifier(n_estimators=100, random_state=42)\n",
    "    }\n",
    "    \n",
    "    meta_model_scores = {}\n",
    "    for name, model in meta_models.items():\n",
    "        scores = cross_val_score(model, oof_preds_df, train_res, cv=5, scoring='accuracy')\n",
    "        meta_model_scores[name] = scores.mean()\n",
    "         print(f\"{name} CV Accuracy: {scores.mean():.4f}\")\n",
    "    \n",
    "    best_meta_model = max(meta_model_scores, key=meta_model_scores.get)\n",
    "    meta_models[best_meta_model].fit(oof_preds_df, train_res)\n",
    "    \n",
    "    return meta_models, best_meta_model\n",
    "    "
   ]
  },
  {
   "cell_type": "code",
   "execution_count": null,
   "metadata": {
    "vscode": {
     "languageId": "plaintext"
    }
   },
   "outputs": [],
   "source": [
    "def predict(models, meta_models, best_meta_model, test, test_id, train_columns):\n",
    "    # Ensure that test data has the same column names as the train data\n",
    "    test_preds = np.column_stack([models[name].predict_proba(test[train_columns])[:, 1] for name in models.keys()])\n",
    "    final_preds = meta_models[best_meta_model].predict(test_preds)\n",
    "    \n",
    "    submission = pd.DataFrame({'PassengerId': test_id, 'Transported': final_preds.astype(bool)})\n",
    "    submission.to_csv('submission.csv', index=False)\n",
    "    print(\"Submission file saved!\")"
   ]
  },
  {
   "cell_type": "code",
   "execution_count": null,
   "metadata": {
    "vscode": {
     "languageId": "plaintext"
    }
   },
   "outputs": [],
   "source": [
    "train, test, train_res, test_id = load_data(\"/kaggle/input/spaceship-titanic/train.csv\", \"/kaggle/input/spaceship-titanic/test.csv\")\n",
    "train, test = preprocess_data(train, test)\n",
    "train, test = apply_clustering(train, test)\n",
    "models, oof_preds = train_base_models(train, train_res)\n",
    "meta_models, best_meta_model = train_meta_models(oof_preds, train_res, train.columns)\n",
    "predict(models, meta_models, best_meta_model, test, test_id, train.columns)"
   ]
  }
 ],
 "metadata": {
  "language_info": {
   "name": "python"
  }
 },
 "nbformat": 4,
 "nbformat_minor": 2
}
